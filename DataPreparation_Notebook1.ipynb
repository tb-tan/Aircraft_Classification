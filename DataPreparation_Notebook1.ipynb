{
  "cells": [
    {
      "cell_type": "markdown",
      "source": [
        "RarePlanes Github: https://github.com/jdc08161063/RarePlanes\n",
        "\n",
        "RarePlanes Paper citation:\n",
        "\n",
        "@misc{shermeyer2020rareplanes,\n",
        "title={RarePlanes: Synthetic Data Takes Flight},\n",
        "author={Jacob Shermeyer and Thomas Hossler and Adam Van Etten and Daniel Hogan and Ryan Lewis and Daeil Kim},\n",
        "year={2020},\n",
        "eprint={2006.02963},\n",
        "archivePrefix={arXiv},\n",
        "primaryClass={cs.CV}\n",
        "}"
      ],
      "metadata": {
        "id": "EvMHfAU_1GvK"
      }
    },
    {
      "cell_type": "markdown",
      "metadata": {
        "id": "QSnwxFh05Vr_"
      },
      "source": [
        "# Packages"
      ]
    },
    {
      "cell_type": "code",
      "execution_count": null,
      "metadata": {
        "id": "8ShFyRts5VsB"
      },
      "outputs": [],
      "source": [
        "import os\n",
        "import json\n",
        "import shutil\n",
        "from pathlib import Path\n",
        "from collections import Counter\n",
        "import geopandas as gpd\n",
        "import glob\n",
        "from glob import glob\n",
        "import pandas as pd"
      ]
    },
    {
      "cell_type": "code",
      "source": [
        "from google.colab import drive\n",
        "drive.mount('/content/drive')"
      ],
      "metadata": {
        "colab": {
          "base_uri": "https://localhost:8080/"
        },
        "id": "5ggYjnNcZaUm",
        "outputId": "00d297d6-46b3-4277-ce39-f89337eae2d6"
      },
      "execution_count": null,
      "outputs": [
        {
          "output_type": "stream",
          "name": "stdout",
          "text": [
            "Mounted at /content/drive\n"
          ]
        }
      ]
    },
    {
      "cell_type": "markdown",
      "source": [
        "# Dataset Analysis"
      ],
      "metadata": {
        "id": "qt9BWR8qVPZy"
      }
    },
    {
      "cell_type": "markdown",
      "source": [
        "## Number of Planes in Tiled Images that They Gave (json file)"
      ],
      "metadata": {
        "id": "JHjC5rRnVNuy"
      }
    },
    {
      "cell_type": "code",
      "source": [
        "def geojson_role_counter(path):\n",
        "    total = 0\n",
        "    with open(path, \"r\") as f:\n",
        "        data = json.load(f)\n",
        "    role_ids = []\n",
        "    for ann in data[\"annotations\"]:\n",
        "        role_ids.append(ann[\"role_id\"])\n",
        "    counter = Counter(role_ids)\n",
        "    for numbers in counter.values():\n",
        "        total += numbers\n",
        "    return(f\"Total Number of Aircraft: {total}, In roles: {counter}\")\n",
        "\n",
        "train_counts = geojson_role_counter(\"/content/drive/MyDrive/RarePlanes/Metadata_Annotations/RarePlanes_Train_Coco_Annotations_tiled.json\")\n",
        "test_counts = geojson_role_counter(\"/content/drive/MyDrive/RarePlanes/Metadata_Annotations/RarePlanes_Test_Coco_Annotations_tiled.json\")\n",
        "print(f\"Train: {train_counts},\\n Test: {test_counts}\")\n",
        "print(f\"Train+Test = {18393 + 6812}\")\n",
        "\n",
        "# More than the original given number of aircraft because of duplication and partial distribution"
      ],
      "metadata": {
        "colab": {
          "base_uri": "https://localhost:8080/"
        },
        "id": "8cNOIjV2VShi",
        "outputId": "83bc8327-1d53-4c97-97f0-464fe1b49281"
      },
      "execution_count": null,
      "outputs": [
        {
          "output_type": "stream",
          "name": "stdout",
          "text": [
            "Train: Total Number of Aircraft: 18393, In roles: Counter({1.0: 10328, 2.0: 6123, 3.0: 1450, 4.0: 284, 6.0: 185, 7.0: 17, 5.0: 6}),\n",
            " Test: Total Number of Aircraft: 6812, In roles: Counter({2.0: 2874, 1.0: 2616, 3.0: 967, 4.0: 230, 6.0: 111, 7.0: 10, 5.0: 4})\n",
            "Train+Test = 25205\n"
          ]
        }
      ]
    },
    {
      "cell_type": "code",
      "source": [
        "with open(\"/content/drive/MyDrive/RarePlanes/Metadata_Annotations/RarePlanes_Train_Coco_Annotations_tiled.json\") as f:\n",
        "    data = json.load(f)\n",
        "    annotations = data[\"annotations\"]\n",
        "\n",
        "    partial_count = sum(1 for ann in annotations if ann.get(\"partialDec\", 0.0) < 1.0)\n",
        "    truncated_count = sum(1 for ann in annotations if ann.get(\"truncated\", 0.0) == 1.0)\n",
        "\n",
        "    print(f\"Partial aircraft: {partial_count}\")\n",
        "    print(f\"Truncated aircraft: {truncated_count}\")\n",
        "\n",
        "with open(\"/content/drive/MyDrive/RarePlanes/Metadata_Annotations/RarePlanes_Test_Coco_Annotations_tiled.json\") as f:\n",
        "    data = json.load(f)\n",
        "    annotations = data[\"annotations\"]\n",
        "\n",
        "    partial_count = sum(1 for ann in annotations if ann.get(\"partialDec\", 0.0) < 1.0)\n",
        "    truncated_count = sum(1 for ann in annotations if ann.get(\"truncated\", 0.0) == 1.0)\n",
        "\n",
        "    print(f\"Partial aircraft: {partial_count}\")\n",
        "    print(f\"Truncated aircraft: {truncated_count}\")\n"
      ],
      "metadata": {
        "colab": {
          "base_uri": "https://localhost:8080/"
        },
        "id": "CKyPb2BPqR0F",
        "outputId": "d2d16efc-538e-41e3-e8a1-b9a1f4c01874"
      },
      "execution_count": null,
      "outputs": [
        {
          "output_type": "stream",
          "name": "stdout",
          "text": [
            "Partial aircraft: 4756\n",
            "Truncated aircraft: 4756\n",
            "Partial aircraft: 2409\n",
            "Truncated aircraft: 2409\n"
          ]
        }
      ]
    },
    {
      "cell_type": "markdown",
      "source": [
        "## Number of Planes in the Original Hand-Annotated Annotations.geojson (geojson file)"
      ],
      "metadata": {
        "id": "F_9OSQznVGwL"
      }
    },
    {
      "cell_type": "code",
      "source": [
        "def geojson_count(path):\n",
        "  total = 0\n",
        "  role_ids = []\n",
        "  with open(path, \"r\") as f:\n",
        "      data = json.load(f)\n",
        "      for feature in data[\"features\"]:\n",
        "              role_id = feature[\"properties\"].get(\"role_id\")\n",
        "              total += 1\n",
        "              role_ids.append(role_id)\n",
        "  return(f\"Total: {total}, {Counter(role_ids)}\")"
      ],
      "metadata": {
        "id": "l4YXYY4IVIJN"
      },
      "execution_count": null,
      "outputs": []
    },
    {
      "cell_type": "code",
      "source": [
        "print(geojson_count(\"/content/drive/MyDrive/RarePlanes/Metadata_Annotations/RarePlanes_Public_All_Annotations.geojson\"))\n",
        "print(25025 - 14707)\n",
        "\n",
        "# There are extra (25202 - 14707) 10318 instances which is not hand-annotated. Potentially, duplications and/or partial aircraft."
      ],
      "metadata": {
        "colab": {
          "base_uri": "https://localhost:8080/"
        },
        "id": "tS5C8rMAZyFJ",
        "outputId": "c0141cd2-3567-4d59-905f-df401d094d5e"
      },
      "execution_count": null,
      "outputs": [
        {
          "output_type": "stream",
          "name": "stdout",
          "text": [
            "Total: 14707, Counter({1: 8002, 2: 5132, 3: 1098, 4: 283, 6: 171, 7: 15, 5: 6})\n",
            "10318\n"
          ]
        }
      ]
    },
    {
      "cell_type": "markdown",
      "source": [
        "## Checking Overlap between Train and Test Set"
      ],
      "metadata": {
        "id": "2MmTfiMvnVJd"
      }
    },
    {
      "cell_type": "code",
      "source": [
        "def extract_image_names(folder):\n",
        "    image_names = set()\n",
        "    for filename in os.listdir(folder):\n",
        "        if filename.endswith(\".png\"):\n",
        "            base = filename.split(\"_tile_\")[0]\n",
        "            image_names.add(base)\n",
        "    return image_names\n",
        "\n",
        "train_dir = '/content/drive/MyDrive/RarePlanes/Train/images'\n",
        "test_dir = '/content/drive/MyDrive/RarePlanes/Test/images'\n",
        "\n",
        "train_images = extract_image_names(train_dir)\n",
        "test_images = extract_image_names(test_dir)\n",
        "\n",
        "overlap = train_images & test_images\n",
        "\n",
        "if overlap is True:\n",
        "    print(\"Overlapping image:\")\n",
        "else:\n",
        "    print(\"No overlap\")"
      ],
      "metadata": {
        "colab": {
          "base_uri": "https://localhost:8080/"
        },
        "id": "u1yVUNb1nZKM",
        "outputId": "2999da80-94ea-4e76-9660-001cf385fac4"
      },
      "execution_count": null,
      "outputs": [
        {
          "output_type": "stream",
          "name": "stdout",
          "text": [
            "No overlap\n"
          ]
        }
      ]
    },
    {
      "cell_type": "markdown",
      "source": [
        "# Original Number of Images and Aircraft on Train and Test Sets"
      ],
      "metadata": {
        "id": "tQwVZ5EcA2lS"
      }
    },
    {
      "cell_type": "code",
      "source": [
        "import json\n",
        "\n",
        "def count_classes_original(json_path):\n",
        "    with open(json_path) as f:\n",
        "        data = json.load(f)\n",
        "\n",
        "    civil = 0\n",
        "    military = 0\n",
        "    na = 0\n",
        "\n",
        "    for annotation in data[\"annotations\"]:\n",
        "        role = annotation.get(\"role\", \"\").lower()\n",
        "        if role == \"civil\" or \"civil\" in role:\n",
        "            civil += 1\n",
        "        elif role == \"military\" or \"military\" in role:\n",
        "            military += 1\n",
        "        else: print(\"none\")\n",
        "\n",
        "    total = civil + military\n",
        "\n",
        "    return f\"Civil: {civil} ({civil / total:.2%}), Military: {military} ({military / total:.2%}))\""
      ],
      "metadata": {
        "id": "5o_JaA69A6IG"
      },
      "execution_count": null,
      "outputs": []
    },
    {
      "cell_type": "code",
      "source": [
        "print(f\"Train set: {count_classes_original('/content/drive/MyDrive/RarePlanes/Metadata_Annotations/RarePlanes_Train_Coco_Annotations_tiled.json')}\")\n",
        "print(f\"Test set: {count_classes_original('/content/drive/MyDrive/RarePlanes/Metadata_Annotations/RarePlanes_Test_Coco_Annotations_tiled.json')}\")"
      ],
      "metadata": {
        "colab": {
          "base_uri": "https://localhost:8080/"
        },
        "id": "fLz8lh5VBDtH",
        "outputId": "b94ff424-77df-41fb-ed76-df386cf3c977"
      },
      "execution_count": null,
      "outputs": [
        {
          "output_type": "stream",
          "name": "stdout",
          "text": [
            "Train set: Civil: 17901 (97.33%), Military: 492 (2.67%))\n",
            "Test set: Civil: 6457 (94.79%), Military: 355 (5.21%))\n"
          ]
        }
      ]
    },
    {
      "cell_type": "code",
      "source": [
        "# Original number of images, train: 5815\n",
        "# Original number of images, test: 2710"
      ],
      "metadata": {
        "id": "FFtmXSu_BDhq"
      },
      "execution_count": null,
      "outputs": []
    },
    {
      "cell_type": "markdown",
      "source": [
        "# Creating New Tiled Dataset with Original Images (Overlap=0)"
      ],
      "metadata": {
        "id": "yiVtd9x8VqEf"
      }
    },
    {
      "cell_type": "markdown",
      "source": [
        "## On Docker"
      ],
      "metadata": {
        "id": "VU3wNF5ygStR"
      }
    },
    {
      "cell_type": "markdown",
      "source": [
        "**Create Tiles**\n",
        "*   **Train**\n",
        "\n",
        "python /code/rareplanes_package/create_tiles.py \\\n",
        "  --image_dir /code/RarePlanes/real/tarballs/train/PS-RGB_cog \\\n",
        "  --geojson_dir /code/RarePlanes/real/tarballs/train/geojson_aircraft \\\n",
        "  --tile_image_dir /code/RarePlanes/real/train/images \\\n",
        "  --tile_geojson_dir /code/RarePlanes/real/train/geojson \\\n",
        "  --tile_size 1024 \\\n",
        "  --overlap 0\n",
        "\n",
        "\n",
        "* **Test**\n",
        "\n",
        "python /code/rareplanes_package/create_tiles.py \\\n",
        "  --image_dir /code/RarePlanes/real/tarballs/test/PS-RGB_cog \\\n",
        "  --geojson_dir /code/RarePlanes/real/tarballs/test/geojson_aircraft \\\n",
        "  --tile_image_dir /code/RarePlanes/real/test/images \\\n",
        "  --tile_geojson_dir /code/RarePlanes/real/test/geojson \\\n",
        "  --tile_size 1024 \\\n",
        "  --overlap 0"
      ],
      "metadata": {
        "id": "pBvun8htVyog"
      }
    },
    {
      "cell_type": "markdown",
      "source": [
        "**Merge Files in Geojson Folder**\n",
        "\n",
        "python merge_geojson.py \\\n",
        "  --input_dir /code/RarePlanes/real/train/geojson \\\n",
        "  --output_file /code/RarePlanes/real/train/train_geojson.geojson\n",
        "\n",
        "python merge_geojson.py \\\n",
        "  --input_dir /code/RarePlanes/real/test/geojson \\\n",
        "  --output_file /code/RarePlanes/real/test/test_geojson.geojson\n",
        "\n"
      ],
      "metadata": {
        "id": "xasNwWlVV2MG"
      }
    },
    {
      "cell_type": "markdown",
      "source": [
        "## On Drive"
      ],
      "metadata": {
        "id": "lj_BDcGCgVLZ"
      }
    },
    {
      "cell_type": "code",
      "source": [
        "# Number of aircraft new version tiled train and test sets:\n",
        "\n",
        "print(geojson_count(\"/content/drive/MyDrive/RarePlanes/Train/train_geojson.geojson\")) # 11365\n",
        "print(geojson_count(\"/content/drive/MyDrive/RarePlanes/Test/test_geojson.geojson\")) # 3998\n",
        "\n",
        "# Still more than the original because of partial aircraft."
      ],
      "metadata": {
        "colab": {
          "base_uri": "https://localhost:8080/"
        },
        "id": "gblXBj1yWgN8",
        "outputId": "a6043b06-f08c-4d14-d7ee-8e96a30a828c"
      },
      "execution_count": null,
      "outputs": [
        {
          "output_type": "stream",
          "name": "stdout",
          "text": [
            "Total: 11365, Counter({1: 6567, 2: 3751, 3: 751, 4: 174, 6: 109, 7: 9, 5: 4})\n",
            "Total: 3998, Counter({2: 1690, 1: 1625, 3: 485, 4: 126, 6: 64, 7: 6, 5: 2})\n"
          ]
        }
      ]
    },
    {
      "cell_type": "code",
      "source": [
        "11365+3998"
      ],
      "metadata": {
        "colab": {
          "base_uri": "https://localhost:8080/"
        },
        "id": "Isrd1s8esmpw",
        "outputId": "a636bbbb-9bde-496f-a295-66c4837c111f"
      },
      "execution_count": null,
      "outputs": [
        {
          "output_type": "execute_result",
          "data": {
            "text/plain": [
              "15363"
            ]
          },
          "metadata": {},
          "execution_count": 27
        }
      ]
    },
    {
      "cell_type": "markdown",
      "source": [
        "## Cleaning Partial Aircraft"
      ],
      "metadata": {
        "id": "4LNCWH5lYN2U"
      }
    },
    {
      "cell_type": "code",
      "source": [
        "def clean_partial_aircraft(input,output):\n",
        "    gdf = gpd.read_file(input)\n",
        "    gdf_clean = gdf[\n",
        "    (gdf[\"partialDec\"].fillna(1.0) == 1.0) &\n",
        "    (gdf[\"truncated\"].fillna(0) == 0)\n",
        "]\n",
        "    gdf_clean.to_file(output, driver=\"GeoJSON\")\n",
        "\n",
        "    print(f\"Original aircraft: {len(gdf)}\")\n",
        "    print(f\"Remaining aircraft: {len(gdf_clean)}\")\n",
        "    print(f\"Removed aircraft: {len(gdf) - len(gdf_clean)}\")"
      ],
      "metadata": {
        "id": "igTi-_42YNhA"
      },
      "execution_count": null,
      "outputs": []
    },
    {
      "cell_type": "code",
      "source": [
        "# Number of aircraft after cleaning partial\n",
        "\n",
        "train = clean_partial_aircraft(\"/content/drive/MyDrive/RarePlanes/Train/train_geojson.geojson\",\"/content/drive/MyDrive/RarePlanes/Train/train_geojson_clean.geojson\")\n",
        "test = clean_partial_aircraft(\"/content/drive/MyDrive/RarePlanes/Test/test_geojson.geojson\", \"/content/drive/MyDrive/RarePlanes/Test/test_geojson_clean.geojson\")"
      ],
      "metadata": {
        "colab": {
          "base_uri": "https://localhost:8080/"
        },
        "id": "qiczeudaY3oB",
        "outputId": "37ebdb82-a16d-47fc-b8ef-5d5849f8b7a0"
      },
      "execution_count": null,
      "outputs": [
        {
          "output_type": "stream",
          "name": "stdout",
          "text": [
            "Original aircraft: 11365\n",
            "Remaining aircraft: 9842\n",
            "Removed aircraft: 1523\n",
            "Original aircraft: 3998\n",
            "Remaining aircraft: 3310\n",
            "Removed aircraft: 688\n"
          ]
        }
      ]
    },
    {
      "cell_type": "code",
      "source": [
        "# Final geojson\n",
        "\n",
        "print(geojson_count(\"/content/drive/MyDrive/RarePlanes/Train/train_geojson_clean.geojson\")) # 11365\n",
        "print(geojson_count(\"/content/drive/MyDrive/RarePlanes/Test/test_geojson_clean.geojson\")) # 3998"
      ],
      "metadata": {
        "colab": {
          "base_uri": "https://localhost:8080/"
        },
        "id": "VcjUE4y_Y-Cb",
        "outputId": "06df8c0c-48b7-401e-d217-a67865627a89"
      },
      "execution_count": null,
      "outputs": [
        {
          "output_type": "stream",
          "name": "stdout",
          "text": [
            "Total: 9842, Counter({1: 6074, 2: 3062, 3: 456, 4: 131, 6: 106, 7: 9, 5: 4})\n",
            "Total: 3310, Counter({1: 1511, 2: 1349, 3: 282, 4: 102, 6: 59, 7: 6, 5: 1})\n"
          ]
        }
      ]
    },
    {
      "cell_type": "markdown",
      "source": [
        "## Role Simplified (6 categories to 2 categories)"
      ],
      "metadata": {
        "id": "fCos2dPqbcnm"
      }
    },
    {
      "cell_type": "code",
      "source": [
        "def role_simplify(input, output):\n",
        "    role_map = {\n",
        "    \"Small Civil Transport/Utility\": \"civil\",\n",
        "    \"Medium Civil Transport/Utility\": \"civil\",\n",
        "    \"Large Civil Transport/Utility\": \"civil\",\n",
        "    \"Military Transport/Utility/AWAC\": \"military\",\n",
        "    \"Military Bomber\": \"military\",\n",
        "    \"Military Fighter/Interceptor/Attack\": \"military\",\n",
        "    \"Military Trainer\": \"military\"\n",
        "}\n",
        "    gdf = gpd.read_file(input)\n",
        "    gdf[\"role_simplified\"] = gdf[\"role\"].map(role_map).fillna(\"unknown\")\n",
        "    result = gdf.to_file(output, driver= \"GeoJSON\")\n",
        "    return result"
      ],
      "metadata": {
        "id": "jFsB_1sabgCY"
      },
      "execution_count": null,
      "outputs": []
    },
    {
      "cell_type": "code",
      "source": [
        "(role_simplify(\"/content/drive/MyDrive/RarePlanes/Train/train_geojson_clean.geojson\", \"/content/drive/MyDrive/RarePlanes/Train/train_geojson_clean.geojson\"))\n",
        "(role_simplify(\"/content/drive/MyDrive/RarePlanes/Test/test_geojson_clean.geojson\", \"/content/drive/MyDrive/RarePlanes/Test/test_geojson_clean.geojson\"))"
      ],
      "metadata": {
        "id": "AXgQBGq0biS5"
      },
      "execution_count": null,
      "outputs": []
    },
    {
      "cell_type": "markdown",
      "source": [
        "## Updating Image and Label Files According to New .geojson"
      ],
      "metadata": {
        "id": "umU12LWSbUF3"
      }
    },
    {
      "cell_type": "markdown",
      "source": [
        "1. Creating a set of valid aircraft (clean_aircraft_keys) using cat_id and a consistent coordinate hash.\n",
        "\n",
        "2. Looping over tile GeoJSONs and filtering out aircraft not in the clean set.\n",
        "\n",
        "3. Writing cleaned GeoJSONs only for tiles that contain valid aircraft.\n",
        "\n",
        "4. Then using those cleaned GeoJSONs to sync files, keeping only what's needed."
      ],
      "metadata": {
        "id": "hZmrAQEecFO0"
      }
    },
    {
      "cell_type": "markdown",
      "source": [
        "## Train"
      ],
      "metadata": {
        "id": "4TnYd9I4cMvi"
      }
    },
    {
      "cell_type": "code",
      "source": [
        "with open(\"/content/drive/MyDrive/RarePlanes/Train/train_geojson_clean.geojson\") as f:\n",
        "    merged_clean = json.load(f)\n",
        "\n",
        "clean_aircraft_keys = set()\n",
        "for feature in merged_clean[\"features\"]:\n",
        "    cat_id = feature[\"properties\"].get(\"cat_id\")\n",
        "    coords = feature[\"geometry\"][\"coordinates\"]\n",
        "    if coords and coords[0]:\n",
        "        key = f\"{cat_id}_{coords[0][0][0]:.6f}_{coords[0][0][1]:.6f}\"\n",
        "        clean_aircraft_keys.add(key)"
      ],
      "metadata": {
        "id": "lN6yFp5HcNuU"
      },
      "execution_count": null,
      "outputs": []
    },
    {
      "cell_type": "markdown",
      "source": [
        "### Labels (Geojson) Folder"
      ],
      "metadata": {
        "id": "FedtORfbcuS6"
      }
    },
    {
      "cell_type": "code",
      "source": [
        "tile_dir = Path(\"/content/drive/MyDrive/RarePlanes/Train/geojson\")\n",
        "output_dir = Path(\"/content/drive/MyDrive/RarePlanes/Train/geojson_cleaned\")\n",
        "output_dir.mkdir(parents=True, exist_ok=True)\n",
        "\n",
        "for geo_file in tile_dir.glob(\"*.geojson\"):\n",
        "    with open(geo_file) as f:\n",
        "        tile_data = json.load(f)\n",
        "\n",
        "    filtered_features = []\n",
        "    for feature in tile_data[\"features\"]:\n",
        "        cat_id = feature[\"properties\"].get(\"cat_id\")\n",
        "        coords = feature[\"geometry\"][\"coordinates\"]\n",
        "        key = f\"{cat_id}_{coords[0][0][0]:.6f}_{coords[0][0][1]:.6f}\"\n",
        "        if key in clean_aircraft_keys:\n",
        "            filtered_features.append(feature)\n",
        "\n",
        "    if filtered_features:\n",
        "        with open(output_dir / geo_file.name, \"w\") as f:\n",
        "            json.dump({\n",
        "                \"type\": \"FeatureCollection\",\n",
        "                \"features\": filtered_features\n",
        "            }, f, indent=2)"
      ],
      "metadata": {
        "id": "ds3JSTKucr_i"
      },
      "execution_count": null,
      "outputs": []
    },
    {
      "cell_type": "code",
      "source": [
        "geojson_files = glob.glob(\"/content/drive/MyDrive/RarePlanes/Train/geojson_cleaned/*.geojson\")\n",
        "print(f\"Number of files: {len(geojson_files)}\")\n"
      ],
      "metadata": {
        "colab": {
          "base_uri": "https://localhost:8080/"
        },
        "id": "oaaPg3cGiFBO",
        "outputId": "95572810-ea2d-4951-d041-4414dd49b82a"
      },
      "execution_count": null,
      "outputs": [
        {
          "output_type": "stream",
          "name": "stdout",
          "text": [
            "Number of files: 1889\n"
          ]
        }
      ]
    },
    {
      "cell_type": "markdown",
      "source": [
        "### Image Folder"
      ],
      "metadata": {
        "id": "QCWTYjcEdBlU"
      }
    },
    {
      "cell_type": "code",
      "source": [
        "import os\n",
        "from pathlib import Path\n",
        "\n",
        "cleaned_geojson_dir = Path(\"/content/drive/MyDrive/RarePlanes/Train/geojson_cleaned\") #output of the previous\n",
        "image_tile_dir = Path(\"/content/drive/MyDrive/RarePlanes/Train/images\")\n",
        "\n",
        "valid_tiles = {f.stem for f in cleaned_geojson_dir.glob(\"*.geojson\")}\n",
        "\n",
        "png_files_to_keep = set()\n",
        "for file in image_tile_dir.glob(\"*.png\"):\n",
        "    stem = file.stem\n",
        "    if stem in valid_tiles:\n",
        "        png_files_to_keep.add(stem)\n",
        "    else:\n",
        "        file.unlink()"
      ],
      "metadata": {
        "id": "s9K7A53mdELM"
      },
      "execution_count": null,
      "outputs": []
    },
    {
      "cell_type": "code",
      "source": [
        "images = glob.glob(\"/content/drive/MyDrive/RarePlanes/Train/images/*.png\")\n",
        "print(f\"Number of files: {len(images)}\")"
      ],
      "metadata": {
        "colab": {
          "base_uri": "https://localhost:8080/"
        },
        "id": "ogD3sESjvLMa",
        "outputId": "6b3b3d1e-ac8d-4923-9e63-300748714ad4"
      },
      "execution_count": null,
      "outputs": [
        {
          "output_type": "stream",
          "name": "stdout",
          "text": [
            "Number of files: 1889\n"
          ]
        }
      ]
    },
    {
      "cell_type": "markdown",
      "source": [
        "### Number of Aircraft after Cleaning (To Check the Match)"
      ],
      "metadata": {
        "id": "el7YzbWkdRqN"
      }
    },
    {
      "cell_type": "code",
      "source": [
        "geojson_folder = \"/content/drive/MyDrive/RarePlanes/Train/geojson_cleaned\"\n",
        "total = 0\n",
        "\n",
        "for filename in os.listdir(geojson_folder):\n",
        "    if filename.endswith(\".geojson\"):\n",
        "        file_path = os.path.join(geojson_folder, filename)\n",
        "        with open(file_path, 'r') as f:\n",
        "            data = json.load(f)\n",
        "            features = data.get(\"features\", [])\n",
        "            total += len(features)\n",
        "\n",
        "print(f\"Total aircraft: {total}\")\n",
        "\n",
        "# Train + Test in Train Folder = 9842 aircraft >>>> Correct\n"
      ],
      "metadata": {
        "colab": {
          "base_uri": "https://localhost:8080/"
        },
        "id": "rHgda5jTdVZ0",
        "outputId": "709d7cce-ffc2-48b7-e010-186a33075ef9"
      },
      "execution_count": null,
      "outputs": [
        {
          "output_type": "stream",
          "name": "stdout",
          "text": [
            "Total aircraft: 9842\n"
          ]
        }
      ]
    },
    {
      "cell_type": "markdown",
      "source": [
        "## Test"
      ],
      "metadata": {
        "id": "ViWXxGiMkbeS"
      }
    },
    {
      "cell_type": "code",
      "source": [
        "with open(\"/content/drive/MyDrive/RarePlanes/Test/test_geojson_clean.geojson\") as f:\n",
        "    merged_clean = json.load(f)\n",
        "\n",
        "clean_aircraft_keys = set()\n",
        "for feature in merged_clean[\"features\"]:\n",
        "    cat_id = feature[\"properties\"].get(\"cat_id\")\n",
        "    coords = feature[\"geometry\"][\"coordinates\"]\n",
        "    if coords and coords[0]:\n",
        "        key = f\"{cat_id}_{coords[0][0][0]:.6f}_{coords[0][0][1]:.6f}\"\n",
        "        clean_aircraft_keys.add(key)"
      ],
      "metadata": {
        "id": "TSZDzFcpkbeU"
      },
      "execution_count": null,
      "outputs": []
    },
    {
      "cell_type": "markdown",
      "source": [
        "### Labels (Geojson) Folder"
      ],
      "metadata": {
        "id": "ZeM1IDTKkbeU"
      }
    },
    {
      "cell_type": "code",
      "source": [
        "tile_dir = Path(\"/content/drive/MyDrive/RarePlanes/Test/geojson\")\n",
        "output_dir = Path(\"/content/drive/MyDrive/RarePlanes/Test/geojson_cleaned\")\n",
        "output_dir.mkdir(parents=True, exist_ok=True)\n",
        "\n",
        "for geo_file in tile_dir.glob(\"*.geojson\"):\n",
        "    with open(geo_file) as f:\n",
        "        tile_data = json.load(f)\n",
        "\n",
        "    filtered_features = []\n",
        "    for feature in tile_data[\"features\"]:\n",
        "        cat_id = feature[\"properties\"].get(\"cat_id\")\n",
        "        coords = feature[\"geometry\"][\"coordinates\"]\n",
        "        key = f\"{cat_id}_{coords[0][0][0]:.6f}_{coords[0][0][1]:.6f}\"\n",
        "        if key in clean_aircraft_keys:\n",
        "            filtered_features.append(feature)\n",
        "\n",
        "    if filtered_features:\n",
        "        with open(output_dir / geo_file.name, \"w\") as f:\n",
        "            json.dump({\n",
        "                \"type\": \"FeatureCollection\",\n",
        "                \"features\": filtered_features\n",
        "            }, f, indent=2)"
      ],
      "metadata": {
        "id": "1huOVFqykbeU"
      },
      "execution_count": null,
      "outputs": []
    },
    {
      "cell_type": "code",
      "source": [
        "geojson_files = glob.glob(\"/content/drive/MyDrive/RarePlanes/Test/geojson_cleaned/*.geojson\")\n",
        "print(f\"Number of files: {len(geojson_files)}\")\n"
      ],
      "metadata": {
        "colab": {
          "base_uri": "https://localhost:8080/"
        },
        "outputId": "2446b327-6b9e-4fce-b30d-447710db04d3",
        "id": "P_nJ1EINkbeU"
      },
      "execution_count": null,
      "outputs": [
        {
          "output_type": "stream",
          "name": "stdout",
          "text": [
            "Number of files: 831\n"
          ]
        }
      ]
    },
    {
      "cell_type": "markdown",
      "source": [
        "### Image Folder"
      ],
      "metadata": {
        "id": "qrhC9vWYkbeV"
      }
    },
    {
      "cell_type": "code",
      "source": [
        "cleaned_geojson_dir = Path(\"/content/drive/MyDrive/RarePlanes/Test/geojson_cleaned\") #output of the previous\n",
        "image_tile_dir = Path(\"/content/drive/MyDrive/RarePlanes/Test/images\")\n",
        "\n",
        "valid_tiles = {f.stem for f in cleaned_geojson_dir.glob(\"*.geojson\")}\n",
        "\n",
        "png_files_to_keep = set()\n",
        "for file in image_tile_dir.glob(\"*.png\"):\n",
        "    stem = file.stem\n",
        "    if stem in valid_tiles:\n",
        "        png_files_to_keep.add(stem)\n",
        "    else:\n",
        "        file.unlink()"
      ],
      "metadata": {
        "id": "FF68DJpCkbeV"
      },
      "execution_count": null,
      "outputs": []
    },
    {
      "cell_type": "markdown",
      "source": [
        "### Number of Aircraft after Cleaning (To Check the Match with .geojson)"
      ],
      "metadata": {
        "id": "E5KJ64cPkbeV"
      }
    },
    {
      "cell_type": "code",
      "source": [
        "geojson_folder = \"/content/drive/MyDrive/RarePlanes/Test/geojson_cleaned\"\n",
        "total = 0\n",
        "\n",
        "for filename in os.listdir(geojson_folder):\n",
        "    if filename.endswith(\".geojson\"):\n",
        "        file_path = os.path.join(geojson_folder, filename)\n",
        "        with open(file_path, 'r') as f:\n",
        "            data = json.load(f)\n",
        "            features = data.get(\"features\", [])\n",
        "            total += len(features)\n",
        "\n",
        "print(f\"Total aircraft: {total}\")\n"
      ],
      "metadata": {
        "colab": {
          "base_uri": "https://localhost:8080/"
        },
        "outputId": "9a6118ef-b2c4-48b1-ee72-6543071ec4e4",
        "id": "jehpwLY-kbeV"
      },
      "execution_count": null,
      "outputs": [
        {
          "output_type": "stream",
          "name": "stdout",
          "text": [
            "Total aircraft: 3310\n"
          ]
        }
      ]
    },
    {
      "cell_type": "markdown",
      "metadata": {
        "id": "_tJBFFiU5VsV"
      },
      "source": [
        "# Train-Test Distribution"
      ]
    },
    {
      "cell_type": "code",
      "execution_count": null,
      "metadata": {
        "id": "BmMP8f8S5VsV"
      },
      "outputs": [],
      "source": [
        "def count_classes(json_path):\n",
        "    with open(json_path) as f:\n",
        "            data = json.load(f)\n",
        "\n",
        "    civil = 0\n",
        "    military = 0\n",
        "    na = 0\n",
        "    for feature in data[\"features\"]:\n",
        "            if (feature[\"properties\"][\"role_simplified\"]) == \"civil\":\n",
        "                    civil += 1\n",
        "            elif (feature[\"properties\"][\"role_simplified\"]) == \"military\":\n",
        "                    military += 1\n",
        "            else:\n",
        "                    na +=1\n",
        "\n",
        "    all = military+civil+na\n",
        "\n",
        "    return (f\"Civil: {civil} ({civil / all}, Military: {military} ({military / all}), Any of them: {na}\")"
      ]
    },
    {
      "cell_type": "code",
      "execution_count": null,
      "metadata": {
        "id": "_xF5AeJj5VsV",
        "outputId": "edb8e93b-f873-43e5-e034-0d5d89943fe7",
        "colab": {
          "base_uri": "https://localhost:8080/"
        }
      },
      "outputs": [
        {
          "output_type": "stream",
          "name": "stdout",
          "text": [
            "Train set: Civil: 9592 (0.9745986588091852, Military: 250 (0.025401341190814875), Any of them: 0\n",
            "Test set: Civil: 3142 (0.9492447129909366, Military: 168 (0.05075528700906345), Any of them: 0\n"
          ]
        }
      ],
      "source": [
        "print(f\"Train set: {count_classes('/content/drive/MyDrive/RarePlanes/Train/train_geojson_clean.geojson')}\")\n",
        "print(f\"Test set: {count_classes('/content/drive/MyDrive/RarePlanes/Test/test_geojson_clean.geojson')}\")\n",
        "\n",
        "# The dataset has an extreme class imbalance in both train and test sets."
      ]
    },
    {
      "cell_type": "markdown",
      "source": [
        "* COCO styled .json files are created on Docker by role_simplified as the label:\n",
        "\n",
        "python /code/rareplanes_package/create_coco_real.py \\\n",
        "  --image_dir /code/Dataset_RarePlanes/train/images \\\n",
        "  --geojson_dir /code/Dataset_RarePlanes/train/geojson_clean \\\n",
        "  --output_path /code/roboflow_train_coco.json \\\n",
        "  --category_attribute role_simplified\n",
        "\n",
        "python /code/rareplanes_package/create_coco_real.py \\\n",
        "  --image_dir /code/Dataset_RarePlanes/test/images \\\n",
        "  --geojson_dir /code/Dataset_RarePlanes/test/geojson_clean \\\n",
        "  --output_path /code/roboflow_test_coco.json \\\n",
        "  --category_attribute role_simplified\n",
        "\n",
        "* They are uploaded on Roboflow and YOLO labels are extracted as .txt files"
      ],
      "metadata": {
        "id": "DFtJn_NbpVBV"
      }
    },
    {
      "cell_type": "markdown",
      "source": [
        "### Aircraft Keys"
      ],
      "metadata": {
        "id": "DfAqbA3ORSSj"
      }
    },
    {
      "cell_type": "code",
      "source": [
        "# Aircraf IDs (will used for XGBoost train-test)\n",
        "\n",
        "def label_class_ids_to_named_df(label_folder):\n",
        "    data = []\n",
        "\n",
        "    label_files = sorted(glob(os.path.join(label_folder, \"*.txt\")))\n",
        "\n",
        "    for label_file in label_files:\n",
        "        base = os.path.splitext(os.path.basename(label_file))[0] #file name\n",
        "\n",
        "        with open(label_file, 'r') as f:\n",
        "            for i, line in enumerate(f):\n",
        "                if line.strip():\n",
        "                    parts = line.strip().split()\n",
        "                    class_id = int(parts[0])\n",
        "                    name = f\"{base}_{i+1}\"\n",
        "                    data.append({\"image\": name, \"class_id\": class_id})\n",
        "\n",
        "    return pd.DataFrame(data)\n",
        "\n",
        "gt_train_labels_folder = \"/content/drive/MyDrive/YOLO_roboflow_/train/labels\"\n",
        "gt_test_labels_folder = \"/content/drive/MyDrive/YOLO_roboflow_/test/labels\"\n",
        "\n",
        "gt_train = label_class_ids_to_named_df(gt_train_labels_folder)\n",
        "gt_test = label_class_ids_to_named_df(gt_test_labels_folder)"
      ],
      "metadata": {
        "id": "RnMw3f1Z-_Wk"
      },
      "execution_count": null,
      "outputs": []
    },
    {
      "cell_type": "code",
      "source": [
        "gt_train.to_csv(\"/content/drive/MyDrive/YOLO_roboflow_/train/gt_train.csv\", index=False)\n",
        "gt_test.to_csv(\"/content/drive/MyDrive/YOLO_roboflow_/test/gt_test.csv\", index=False)"
      ],
      "metadata": {
        "id": "IGxeSyUS_iZD"
      },
      "execution_count": null,
      "outputs": []
    },
    {
      "cell_type": "markdown",
      "source": [
        "## Checking Overlap between Train and Test Set after Processing (for Data Leakage)"
      ],
      "metadata": {
        "id": "CyZFJGUgxrWv"
      }
    },
    {
      "cell_type": "code",
      "source": [
        "def extract_image_names(folder):\n",
        "    image_names = set()\n",
        "    for filename in os.listdir(folder):\n",
        "        if filename.endswith(\".png\"):\n",
        "            base = filename.split(\"_tile_\")[0]\n",
        "            image_names.add(base)\n",
        "    return image_names\n",
        "\n",
        "train_dir = '/content/drive/MyDrive/YOLO_roboflow_/train/images'\n",
        "test_dir = '/content/drive/MyDrive/YOLO_roboflow_/test/images'\n",
        "\n",
        "train_images = extract_image_names(train_dir)\n",
        "test_images = extract_image_names(test_dir)\n",
        "\n",
        "overlap = train_images & test_images\n",
        "\n",
        "if overlap is True:\n",
        "    print(\"Overlapping image:\")\n",
        "else:\n",
        "    print(\"No overlap\")"
      ],
      "metadata": {
        "colab": {
          "base_uri": "https://localhost:8080/"
        },
        "outputId": "790b88de-6854-484b-a47f-e2c4ba3a4b90",
        "id": "aHIV3--0xrWw"
      },
      "execution_count": null,
      "outputs": [
        {
          "output_type": "stream",
          "name": "stdout",
          "text": [
            "No overlap\n"
          ]
        }
      ]
    },
    {
      "cell_type": "code",
      "source": [],
      "metadata": {
        "id": "56qjDJyDx9iD"
      },
      "execution_count": null,
      "outputs": []
    }
  ],
  "metadata": {
    "kernelspec": {
      "display_name": "base",
      "language": "python",
      "name": "python3"
    },
    "language_info": {
      "codemirror_mode": {
        "name": "ipython",
        "version": 3
      },
      "file_extension": ".py",
      "mimetype": "text/x-python",
      "name": "python",
      "nbconvert_exporter": "python",
      "pygments_lexer": "ipython3",
      "version": "3.12.4"
    },
    "colab": {
      "provenance": [],
      "collapsed_sections": [
        "QSnwxFh05Vr_",
        "qt9BWR8qVPZy",
        "JHjC5rRnVNuy",
        "F_9OSQznVGwL",
        "2MmTfiMvnVJd",
        "lj_BDcGCgVLZ",
        "4LNCWH5lYN2U",
        "fCos2dPqbcnm",
        "umU12LWSbUF3",
        "4TnYd9I4cMvi",
        "el7YzbWkdRqN",
        "ViWXxGiMkbeS"
      ]
    }
  },
  "nbformat": 4,
  "nbformat_minor": 0
}